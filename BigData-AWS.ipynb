{
 "cells": [
  {
   "cell_type": "markdown",
   "metadata": {},
   "source": [
    "## Big Data - AWS \n",
    "\n",
    "\n",
    "Scale for sentiment towards phone brand:\n",
    "\n",
    "0: very negative\n",
    "\n",
    "1: negative\n",
    "\n",
    "2: somewhat negative\n",
    "\n",
    "3: somewhat positive\n",
    "\n",
    "4: positive\n",
    "\n",
    "5: very positive"
   ]
  },
  {
   "cell_type": "markdown",
   "metadata": {},
   "source": [
    "### Libraries"
   ]
  },
  {
   "cell_type": "code",
   "execution_count": 1,
   "metadata": {},
   "outputs": [],
   "source": [
    "import pandas as pd\n",
    "import numpy as np\n",
    "import matplotlib.pyplot as plt\n",
    "import seaborn as sns\n",
    "from matplotlib.pyplot import figure\n",
    "%matplotlib inline"
   ]
  },
  {
   "cell_type": "markdown",
   "metadata": {},
   "source": [
    "### Loading Data Sets"
   ]
  },
  {
   "cell_type": "code",
   "execution_count": 753,
   "metadata": {},
   "outputs": [],
   "source": [
    "Iphone = pd.read_csv('iphone_smallmatrix.csv')\n",
    "SamsungGalaxy = pd.read_csv('galaxy_smallmatrix.csv')\n",
    "LargeMatrix = pd.read_csv('LargeMatrix.csv',sep=';')"
   ]
  },
  {
   "cell_type": "code",
   "execution_count": 754,
   "metadata": {},
   "outputs": [
    {
     "data": {
      "text/plain": [
       "(36712, 58)"
      ]
     },
     "execution_count": 754,
     "metadata": {},
     "output_type": "execute_result"
    }
   ],
   "source": [
    "LargeMatrix.drop('id',axis=1,inplace=True)\n",
    "LargeMatrix.shape"
   ]
  },
  {
   "cell_type": "markdown",
   "metadata": {},
   "source": [
    "### Initial Exploration"
   ]
  },
  {
   "cell_type": "code",
   "execution_count": 9,
   "metadata": {},
   "outputs": [
    {
     "data": {
      "text/html": [
       "<div>\n",
       "<style scoped>\n",
       "    .dataframe tbody tr th:only-of-type {\n",
       "        vertical-align: middle;\n",
       "    }\n",
       "\n",
       "    .dataframe tbody tr th {\n",
       "        vertical-align: top;\n",
       "    }\n",
       "\n",
       "    .dataframe thead th {\n",
       "        text-align: right;\n",
       "    }\n",
       "</style>\n",
       "<table border=\"1\" class=\"dataframe\">\n",
       "  <thead>\n",
       "    <tr style=\"text-align: right;\">\n",
       "      <th></th>\n",
       "      <th>iphone</th>\n",
       "      <th>samsunggalaxy</th>\n",
       "      <th>sonyxperia</th>\n",
       "      <th>nokialumina</th>\n",
       "      <th>htcphone</th>\n",
       "      <th>ios</th>\n",
       "      <th>googleandroid</th>\n",
       "      <th>iphonecampos</th>\n",
       "      <th>samsungcampos</th>\n",
       "      <th>sonycampos</th>\n",
       "      <th>...</th>\n",
       "      <th>sonyperunc</th>\n",
       "      <th>nokiaperunc</th>\n",
       "      <th>htcperunc</th>\n",
       "      <th>iosperpos</th>\n",
       "      <th>googleperpos</th>\n",
       "      <th>iosperneg</th>\n",
       "      <th>googleperneg</th>\n",
       "      <th>iosperunc</th>\n",
       "      <th>googleperunc</th>\n",
       "      <th>iphonesentiment</th>\n",
       "    </tr>\n",
       "  </thead>\n",
       "  <tbody>\n",
       "    <tr>\n",
       "      <th>0</th>\n",
       "      <td>1</td>\n",
       "      <td>0</td>\n",
       "      <td>0</td>\n",
       "      <td>0</td>\n",
       "      <td>0</td>\n",
       "      <td>0</td>\n",
       "      <td>0</td>\n",
       "      <td>0</td>\n",
       "      <td>0</td>\n",
       "      <td>0</td>\n",
       "      <td>...</td>\n",
       "      <td>0</td>\n",
       "      <td>0</td>\n",
       "      <td>0</td>\n",
       "      <td>0</td>\n",
       "      <td>0</td>\n",
       "      <td>0</td>\n",
       "      <td>0</td>\n",
       "      <td>0</td>\n",
       "      <td>0</td>\n",
       "      <td>0</td>\n",
       "    </tr>\n",
       "    <tr>\n",
       "      <th>1</th>\n",
       "      <td>1</td>\n",
       "      <td>0</td>\n",
       "      <td>0</td>\n",
       "      <td>0</td>\n",
       "      <td>0</td>\n",
       "      <td>0</td>\n",
       "      <td>0</td>\n",
       "      <td>0</td>\n",
       "      <td>0</td>\n",
       "      <td>0</td>\n",
       "      <td>...</td>\n",
       "      <td>0</td>\n",
       "      <td>0</td>\n",
       "      <td>0</td>\n",
       "      <td>0</td>\n",
       "      <td>0</td>\n",
       "      <td>0</td>\n",
       "      <td>0</td>\n",
       "      <td>0</td>\n",
       "      <td>0</td>\n",
       "      <td>0</td>\n",
       "    </tr>\n",
       "    <tr>\n",
       "      <th>2</th>\n",
       "      <td>1</td>\n",
       "      <td>0</td>\n",
       "      <td>0</td>\n",
       "      <td>0</td>\n",
       "      <td>0</td>\n",
       "      <td>0</td>\n",
       "      <td>0</td>\n",
       "      <td>0</td>\n",
       "      <td>0</td>\n",
       "      <td>0</td>\n",
       "      <td>...</td>\n",
       "      <td>0</td>\n",
       "      <td>0</td>\n",
       "      <td>0</td>\n",
       "      <td>0</td>\n",
       "      <td>0</td>\n",
       "      <td>0</td>\n",
       "      <td>0</td>\n",
       "      <td>0</td>\n",
       "      <td>0</td>\n",
       "      <td>0</td>\n",
       "    </tr>\n",
       "    <tr>\n",
       "      <th>3</th>\n",
       "      <td>1</td>\n",
       "      <td>0</td>\n",
       "      <td>0</td>\n",
       "      <td>0</td>\n",
       "      <td>0</td>\n",
       "      <td>0</td>\n",
       "      <td>0</td>\n",
       "      <td>0</td>\n",
       "      <td>0</td>\n",
       "      <td>0</td>\n",
       "      <td>...</td>\n",
       "      <td>0</td>\n",
       "      <td>0</td>\n",
       "      <td>0</td>\n",
       "      <td>0</td>\n",
       "      <td>0</td>\n",
       "      <td>0</td>\n",
       "      <td>0</td>\n",
       "      <td>0</td>\n",
       "      <td>0</td>\n",
       "      <td>0</td>\n",
       "    </tr>\n",
       "    <tr>\n",
       "      <th>4</th>\n",
       "      <td>1</td>\n",
       "      <td>0</td>\n",
       "      <td>0</td>\n",
       "      <td>0</td>\n",
       "      <td>0</td>\n",
       "      <td>0</td>\n",
       "      <td>0</td>\n",
       "      <td>0</td>\n",
       "      <td>0</td>\n",
       "      <td>0</td>\n",
       "      <td>...</td>\n",
       "      <td>0</td>\n",
       "      <td>0</td>\n",
       "      <td>0</td>\n",
       "      <td>0</td>\n",
       "      <td>0</td>\n",
       "      <td>0</td>\n",
       "      <td>0</td>\n",
       "      <td>0</td>\n",
       "      <td>0</td>\n",
       "      <td>0</td>\n",
       "    </tr>\n",
       "  </tbody>\n",
       "</table>\n",
       "<p>5 rows × 59 columns</p>\n",
       "</div>"
      ],
      "text/plain": [
       "   iphone  samsunggalaxy  sonyxperia  nokialumina  htcphone  ios  \\\n",
       "0       1              0           0            0         0    0   \n",
       "1       1              0           0            0         0    0   \n",
       "2       1              0           0            0         0    0   \n",
       "3       1              0           0            0         0    0   \n",
       "4       1              0           0            0         0    0   \n",
       "\n",
       "   googleandroid  iphonecampos  samsungcampos  sonycampos  ...  sonyperunc  \\\n",
       "0              0             0              0           0  ...           0   \n",
       "1              0             0              0           0  ...           0   \n",
       "2              0             0              0           0  ...           0   \n",
       "3              0             0              0           0  ...           0   \n",
       "4              0             0              0           0  ...           0   \n",
       "\n",
       "   nokiaperunc  htcperunc  iosperpos  googleperpos  iosperneg  googleperneg  \\\n",
       "0            0          0          0             0          0             0   \n",
       "1            0          0          0             0          0             0   \n",
       "2            0          0          0             0          0             0   \n",
       "3            0          0          0             0          0             0   \n",
       "4            0          0          0             0          0             0   \n",
       "\n",
       "   iosperunc  googleperunc  iphonesentiment  \n",
       "0          0             0                0  \n",
       "1          0             0                0  \n",
       "2          0             0                0  \n",
       "3          0             0                0  \n",
       "4          0             0                0  \n",
       "\n",
       "[5 rows x 59 columns]"
      ]
     },
     "execution_count": 9,
     "metadata": {},
     "output_type": "execute_result"
    }
   ],
   "source": [
    "Iphone.head()"
   ]
  },
  {
   "cell_type": "code",
   "execution_count": 10,
   "metadata": {},
   "outputs": [
    {
     "name": "stdout",
     "output_type": "stream",
     "text": [
      "<class 'pandas.core.frame.DataFrame'>\n",
      "RangeIndex: 12973 entries, 0 to 12972\n",
      "Data columns (total 59 columns):\n",
      "iphone             12973 non-null int64\n",
      "samsunggalaxy      12973 non-null int64\n",
      "sonyxperia         12973 non-null int64\n",
      "nokialumina        12973 non-null int64\n",
      "htcphone           12973 non-null int64\n",
      "ios                12973 non-null int64\n",
      "googleandroid      12973 non-null int64\n",
      "iphonecampos       12973 non-null int64\n",
      "samsungcampos      12973 non-null int64\n",
      "sonycampos         12973 non-null int64\n",
      "nokiacampos        12973 non-null int64\n",
      "htccampos          12973 non-null int64\n",
      "iphonecamneg       12973 non-null int64\n",
      "samsungcamneg      12973 non-null int64\n",
      "sonycamneg         12973 non-null int64\n",
      "nokiacamneg        12973 non-null int64\n",
      "htccamneg          12973 non-null int64\n",
      "iphonecamunc       12973 non-null int64\n",
      "samsungcamunc      12973 non-null int64\n",
      "sonycamunc         12973 non-null int64\n",
      "nokiacamunc        12973 non-null int64\n",
      "htccamunc          12973 non-null int64\n",
      "iphonedispos       12973 non-null int64\n",
      "samsungdispos      12973 non-null int64\n",
      "sonydispos         12973 non-null int64\n",
      "nokiadispos        12973 non-null int64\n",
      "htcdispos          12973 non-null int64\n",
      "iphonedisneg       12973 non-null int64\n",
      "samsungdisneg      12973 non-null int64\n",
      "sonydisneg         12973 non-null int64\n",
      "nokiadisneg        12973 non-null int64\n",
      "htcdisneg          12973 non-null int64\n",
      "iphonedisunc       12973 non-null int64\n",
      "samsungdisunc      12973 non-null int64\n",
      "sonydisunc         12973 non-null int64\n",
      "nokiadisunc        12973 non-null int64\n",
      "htcdisunc          12973 non-null int64\n",
      "iphoneperpos       12973 non-null int64\n",
      "samsungperpos      12973 non-null int64\n",
      "sonyperpos         12973 non-null int64\n",
      "nokiaperpos        12973 non-null int64\n",
      "htcperpos          12973 non-null int64\n",
      "iphoneperneg       12973 non-null int64\n",
      "samsungperneg      12973 non-null int64\n",
      "sonyperneg         12973 non-null int64\n",
      "nokiaperneg        12973 non-null int64\n",
      "htcperneg          12973 non-null int64\n",
      "iphoneperunc       12973 non-null int64\n",
      "samsungperunc      12973 non-null int64\n",
      "sonyperunc         12973 non-null int64\n",
      "nokiaperunc        12973 non-null int64\n",
      "htcperunc          12973 non-null int64\n",
      "iosperpos          12973 non-null int64\n",
      "googleperpos       12973 non-null int64\n",
      "iosperneg          12973 non-null int64\n",
      "googleperneg       12973 non-null int64\n",
      "iosperunc          12973 non-null int64\n",
      "googleperunc       12973 non-null int64\n",
      "iphonesentiment    12973 non-null int64\n",
      "dtypes: int64(59)\n",
      "memory usage: 5.8 MB\n"
     ]
    }
   ],
   "source": [
    "Iphone.info()"
   ]
  },
  {
   "cell_type": "code",
   "execution_count": 15,
   "metadata": {},
   "outputs": [
    {
     "data": {
      "text/html": [
       "<div>\n",
       "<style scoped>\n",
       "    .dataframe tbody tr th:only-of-type {\n",
       "        vertical-align: middle;\n",
       "    }\n",
       "\n",
       "    .dataframe tbody tr th {\n",
       "        vertical-align: top;\n",
       "    }\n",
       "\n",
       "    .dataframe thead th {\n",
       "        text-align: right;\n",
       "    }\n",
       "</style>\n",
       "<table border=\"1\" class=\"dataframe\">\n",
       "  <thead>\n",
       "    <tr style=\"text-align: right;\">\n",
       "      <th></th>\n",
       "      <th>iphone</th>\n",
       "      <th>samsunggalaxy</th>\n",
       "      <th>sonyxperia</th>\n",
       "      <th>nokialumina</th>\n",
       "      <th>htcphone</th>\n",
       "      <th>ios</th>\n",
       "      <th>googleandroid</th>\n",
       "      <th>iphonecampos</th>\n",
       "      <th>samsungcampos</th>\n",
       "      <th>sonycampos</th>\n",
       "      <th>...</th>\n",
       "      <th>sonyperunc</th>\n",
       "      <th>nokiaperunc</th>\n",
       "      <th>htcperunc</th>\n",
       "      <th>iosperpos</th>\n",
       "      <th>googleperpos</th>\n",
       "      <th>iosperneg</th>\n",
       "      <th>googleperneg</th>\n",
       "      <th>iosperunc</th>\n",
       "      <th>googleperunc</th>\n",
       "      <th>iphonesentiment</th>\n",
       "    </tr>\n",
       "  </thead>\n",
       "  <tbody>\n",
       "    <tr>\n",
       "      <th>count</th>\n",
       "      <td>12973.000000</td>\n",
       "      <td>12973.000000</td>\n",
       "      <td>12973.000000</td>\n",
       "      <td>12973.000000</td>\n",
       "      <td>12973.000000</td>\n",
       "      <td>12973.000000</td>\n",
       "      <td>12973.000000</td>\n",
       "      <td>12973.000000</td>\n",
       "      <td>12973.000000</td>\n",
       "      <td>12973.000000</td>\n",
       "      <td>...</td>\n",
       "      <td>12973.000000</td>\n",
       "      <td>12973.000000</td>\n",
       "      <td>12973.000000</td>\n",
       "      <td>12973.000000</td>\n",
       "      <td>12973.000000</td>\n",
       "      <td>12973.000000</td>\n",
       "      <td>12973.000000</td>\n",
       "      <td>12973.000000</td>\n",
       "      <td>12973.000000</td>\n",
       "      <td>12973.000000</td>\n",
       "    </tr>\n",
       "    <tr>\n",
       "      <th>mean</th>\n",
       "      <td>2.148077</td>\n",
       "      <td>0.071148</td>\n",
       "      <td>0.024050</td>\n",
       "      <td>0.002312</td>\n",
       "      <td>0.137131</td>\n",
       "      <td>0.152316</td>\n",
       "      <td>0.039621</td>\n",
       "      <td>0.289601</td>\n",
       "      <td>0.053727</td>\n",
       "      <td>0.009944</td>\n",
       "      <td>...</td>\n",
       "      <td>0.002312</td>\n",
       "      <td>0.005550</td>\n",
       "      <td>0.064133</td>\n",
       "      <td>0.059200</td>\n",
       "      <td>0.038542</td>\n",
       "      <td>0.057581</td>\n",
       "      <td>0.058198</td>\n",
       "      <td>0.033069</td>\n",
       "      <td>0.016110</td>\n",
       "      <td>3.724505</td>\n",
       "    </tr>\n",
       "    <tr>\n",
       "      <th>std</th>\n",
       "      <td>5.664226</td>\n",
       "      <td>0.280869</td>\n",
       "      <td>0.171266</td>\n",
       "      <td>0.051144</td>\n",
       "      <td>4.223547</td>\n",
       "      <td>0.839081</td>\n",
       "      <td>0.255020</td>\n",
       "      <td>2.188978</td>\n",
       "      <td>0.711322</td>\n",
       "      <td>0.163251</td>\n",
       "      <td>...</td>\n",
       "      <td>0.086887</td>\n",
       "      <td>0.183249</td>\n",
       "      <td>0.829639</td>\n",
       "      <td>0.550736</td>\n",
       "      <td>0.426599</td>\n",
       "      <td>0.565341</td>\n",
       "      <td>0.586035</td>\n",
       "      <td>0.313733</td>\n",
       "      <td>0.285808</td>\n",
       "      <td>1.851348</td>\n",
       "    </tr>\n",
       "    <tr>\n",
       "      <th>min</th>\n",
       "      <td>0.000000</td>\n",
       "      <td>0.000000</td>\n",
       "      <td>0.000000</td>\n",
       "      <td>0.000000</td>\n",
       "      <td>0.000000</td>\n",
       "      <td>0.000000</td>\n",
       "      <td>0.000000</td>\n",
       "      <td>0.000000</td>\n",
       "      <td>0.000000</td>\n",
       "      <td>0.000000</td>\n",
       "      <td>...</td>\n",
       "      <td>0.000000</td>\n",
       "      <td>0.000000</td>\n",
       "      <td>0.000000</td>\n",
       "      <td>0.000000</td>\n",
       "      <td>0.000000</td>\n",
       "      <td>0.000000</td>\n",
       "      <td>0.000000</td>\n",
       "      <td>0.000000</td>\n",
       "      <td>0.000000</td>\n",
       "      <td>0.000000</td>\n",
       "    </tr>\n",
       "    <tr>\n",
       "      <th>25%</th>\n",
       "      <td>1.000000</td>\n",
       "      <td>0.000000</td>\n",
       "      <td>0.000000</td>\n",
       "      <td>0.000000</td>\n",
       "      <td>0.000000</td>\n",
       "      <td>0.000000</td>\n",
       "      <td>0.000000</td>\n",
       "      <td>0.000000</td>\n",
       "      <td>0.000000</td>\n",
       "      <td>0.000000</td>\n",
       "      <td>...</td>\n",
       "      <td>0.000000</td>\n",
       "      <td>0.000000</td>\n",
       "      <td>0.000000</td>\n",
       "      <td>0.000000</td>\n",
       "      <td>0.000000</td>\n",
       "      <td>0.000000</td>\n",
       "      <td>0.000000</td>\n",
       "      <td>0.000000</td>\n",
       "      <td>0.000000</td>\n",
       "      <td>3.000000</td>\n",
       "    </tr>\n",
       "    <tr>\n",
       "      <th>50%</th>\n",
       "      <td>1.000000</td>\n",
       "      <td>0.000000</td>\n",
       "      <td>0.000000</td>\n",
       "      <td>0.000000</td>\n",
       "      <td>0.000000</td>\n",
       "      <td>0.000000</td>\n",
       "      <td>0.000000</td>\n",
       "      <td>0.000000</td>\n",
       "      <td>0.000000</td>\n",
       "      <td>0.000000</td>\n",
       "      <td>...</td>\n",
       "      <td>0.000000</td>\n",
       "      <td>0.000000</td>\n",
       "      <td>0.000000</td>\n",
       "      <td>0.000000</td>\n",
       "      <td>0.000000</td>\n",
       "      <td>0.000000</td>\n",
       "      <td>0.000000</td>\n",
       "      <td>0.000000</td>\n",
       "      <td>0.000000</td>\n",
       "      <td>5.000000</td>\n",
       "    </tr>\n",
       "    <tr>\n",
       "      <th>75%</th>\n",
       "      <td>1.000000</td>\n",
       "      <td>0.000000</td>\n",
       "      <td>0.000000</td>\n",
       "      <td>0.000000</td>\n",
       "      <td>0.000000</td>\n",
       "      <td>0.000000</td>\n",
       "      <td>0.000000</td>\n",
       "      <td>0.000000</td>\n",
       "      <td>0.000000</td>\n",
       "      <td>0.000000</td>\n",
       "      <td>...</td>\n",
       "      <td>0.000000</td>\n",
       "      <td>0.000000</td>\n",
       "      <td>0.000000</td>\n",
       "      <td>0.000000</td>\n",
       "      <td>0.000000</td>\n",
       "      <td>0.000000</td>\n",
       "      <td>0.000000</td>\n",
       "      <td>0.000000</td>\n",
       "      <td>0.000000</td>\n",
       "      <td>5.000000</td>\n",
       "    </tr>\n",
       "    <tr>\n",
       "      <th>max</th>\n",
       "      <td>46.000000</td>\n",
       "      <td>8.000000</td>\n",
       "      <td>8.000000</td>\n",
       "      <td>2.000000</td>\n",
       "      <td>479.000000</td>\n",
       "      <td>6.000000</td>\n",
       "      <td>6.000000</td>\n",
       "      <td>156.000000</td>\n",
       "      <td>65.000000</td>\n",
       "      <td>8.000000</td>\n",
       "      <td>...</td>\n",
       "      <td>5.000000</td>\n",
       "      <td>13.000000</td>\n",
       "      <td>59.000000</td>\n",
       "      <td>26.000000</td>\n",
       "      <td>24.000000</td>\n",
       "      <td>20.000000</td>\n",
       "      <td>25.000000</td>\n",
       "      <td>10.000000</td>\n",
       "      <td>24.000000</td>\n",
       "      <td>5.000000</td>\n",
       "    </tr>\n",
       "  </tbody>\n",
       "</table>\n",
       "<p>8 rows × 59 columns</p>\n",
       "</div>"
      ],
      "text/plain": [
       "             iphone  samsunggalaxy    sonyxperia   nokialumina      htcphone  \\\n",
       "count  12973.000000   12973.000000  12973.000000  12973.000000  12973.000000   \n",
       "mean       2.148077       0.071148      0.024050      0.002312      0.137131   \n",
       "std        5.664226       0.280869      0.171266      0.051144      4.223547   \n",
       "min        0.000000       0.000000      0.000000      0.000000      0.000000   \n",
       "25%        1.000000       0.000000      0.000000      0.000000      0.000000   \n",
       "50%        1.000000       0.000000      0.000000      0.000000      0.000000   \n",
       "75%        1.000000       0.000000      0.000000      0.000000      0.000000   \n",
       "max       46.000000       8.000000      8.000000      2.000000    479.000000   \n",
       "\n",
       "                ios  googleandroid  iphonecampos  samsungcampos    sonycampos  \\\n",
       "count  12973.000000   12973.000000  12973.000000   12973.000000  12973.000000   \n",
       "mean       0.152316       0.039621      0.289601       0.053727      0.009944   \n",
       "std        0.839081       0.255020      2.188978       0.711322      0.163251   \n",
       "min        0.000000       0.000000      0.000000       0.000000      0.000000   \n",
       "25%        0.000000       0.000000      0.000000       0.000000      0.000000   \n",
       "50%        0.000000       0.000000      0.000000       0.000000      0.000000   \n",
       "75%        0.000000       0.000000      0.000000       0.000000      0.000000   \n",
       "max        6.000000       6.000000    156.000000      65.000000      8.000000   \n",
       "\n",
       "       ...    sonyperunc   nokiaperunc     htcperunc     iosperpos  \\\n",
       "count  ...  12973.000000  12973.000000  12973.000000  12973.000000   \n",
       "mean   ...      0.002312      0.005550      0.064133      0.059200   \n",
       "std    ...      0.086887      0.183249      0.829639      0.550736   \n",
       "min    ...      0.000000      0.000000      0.000000      0.000000   \n",
       "25%    ...      0.000000      0.000000      0.000000      0.000000   \n",
       "50%    ...      0.000000      0.000000      0.000000      0.000000   \n",
       "75%    ...      0.000000      0.000000      0.000000      0.000000   \n",
       "max    ...      5.000000     13.000000     59.000000     26.000000   \n",
       "\n",
       "       googleperpos     iosperneg  googleperneg     iosperunc  googleperunc  \\\n",
       "count  12973.000000  12973.000000  12973.000000  12973.000000  12973.000000   \n",
       "mean       0.038542      0.057581      0.058198      0.033069      0.016110   \n",
       "std        0.426599      0.565341      0.586035      0.313733      0.285808   \n",
       "min        0.000000      0.000000      0.000000      0.000000      0.000000   \n",
       "25%        0.000000      0.000000      0.000000      0.000000      0.000000   \n",
       "50%        0.000000      0.000000      0.000000      0.000000      0.000000   \n",
       "75%        0.000000      0.000000      0.000000      0.000000      0.000000   \n",
       "max       24.000000     20.000000     25.000000     10.000000     24.000000   \n",
       "\n",
       "       iphonesentiment  \n",
       "count     12973.000000  \n",
       "mean          3.724505  \n",
       "std           1.851348  \n",
       "min           0.000000  \n",
       "25%           3.000000  \n",
       "50%           5.000000  \n",
       "75%           5.000000  \n",
       "max           5.000000  \n",
       "\n",
       "[8 rows x 59 columns]"
      ]
     },
     "execution_count": 15,
     "metadata": {},
     "output_type": "execute_result"
    }
   ],
   "source": [
    "Iphone.describe()"
   ]
  },
  {
   "cell_type": "code",
   "execution_count": 19,
   "metadata": {},
   "outputs": [
    {
     "name": "stdout",
     "output_type": "stream",
     "text": [
      "0\n",
      "0\n"
     ]
    }
   ],
   "source": [
    "#any missing values in Data Sets?\n",
    "\n",
    "print(Iphone.isna().sum().sum())\n",
    "print(SamsungGalaxy.isna().sum().sum())"
   ]
  },
  {
   "cell_type": "code",
   "execution_count": 687,
   "metadata": {},
   "outputs": [
    {
     "data": {
      "text/plain": [
       "<matplotlib.axes._subplots.AxesSubplot at 0x1398b9994e0>"
      ]
     },
     "execution_count": 687,
     "metadata": {},
     "output_type": "execute_result"
    },
    {
     "data": {
      "image/png": "[encoded data removed]",
      "text/plain": [
       "<Figure size 432x288 with 1 Axes>"
      ]
     },
     "metadata": {
      "needs_background": "light"
     },
     "output_type": "display_data"
    }
   ],
   "source": [
    "Iphone['iphonesentiment'].hist(bins=20)"
   ]
  },
  {
   "cell_type": "code",
   "execution_count": 688,
   "metadata": {},
   "outputs": [
    {
     "data": {
      "text/plain": [
       "<matplotlib.axes._subplots.AxesSubplot at 0x13992ecacc0>"
      ]
     },
     "execution_count": 688,
     "metadata": {},
     "output_type": "execute_result"
    },
    {
     "data": {
      "image/png": "[encoded data removed]",
      "text/plain": [
       "<Figure size 432x288 with 1 Axes>"
      ]
     },
     "metadata": {
      "needs_background": "light"
     },
     "output_type": "display_data"
    }
   ],
   "source": [
    "SamsungGalaxy['galaxysentiment'].hist(color='green',bins=20)"
   ]
  },
  {
   "cell_type": "code",
   "execution_count": 755,
   "metadata": {},
   "outputs": [],
   "source": [
    "Iphone['iphonesentiment'].replace(1,0,inplace=True)\n",
    "Iphone['iphonesentiment'].replace(2,3,inplace=True)\n",
    "Iphone['iphonesentiment'].replace(3,3,inplace=True)\n",
    "Iphone['iphonesentiment'].replace(4,6,inplace=True)\n",
    "Iphone['iphonesentiment'].replace(5,6,inplace=True)\n",
    "\n",
    "SamsungGalaxy['galaxysentiment'].replace(1,0,inplace=True)\n",
    "SamsungGalaxy['galaxysentiment'].replace(2,3,inplace=True)\n",
    "SamsungGalaxy['galaxysentiment'].replace(3,3,inplace=True)\n",
    "SamsungGalaxy['galaxysentiment'].replace(4,6,inplace=True)\n",
    "SamsungGalaxy['galaxysentiment'].replace(5,6,inplace=True)"
   ]
  },
  {
   "cell_type": "code",
   "execution_count": 643,
   "metadata": {},
   "outputs": [
    {
     "data": {
      "text/plain": [
       "6    8979\n",
       "0    2352\n",
       "3    1642\n",
       "Name: iphonesentiment, dtype: int64"
      ]
     },
     "execution_count": 643,
     "metadata": {},
     "output_type": "execute_result"
    }
   ],
   "source": [
    "#counting all levels of sentiment towards Iphone in Training Set\n",
    "\n",
    "Iphone['iphonesentiment'].value_counts(sort=True)"
   ]
  },
  {
   "cell_type": "code",
   "execution_count": 644,
   "metadata": {},
   "outputs": [
    {
     "data": {
      "text/plain": [
       "6    9238\n",
       "0    2093\n",
       "3    1642\n",
       "Name: galaxysentiment, dtype: int64"
      ]
     },
     "execution_count": 644,
     "metadata": {},
     "output_type": "execute_result"
    }
   ],
   "source": [
    "#counting levels of sentiment for Samsung Galaxy in Training Set\n",
    "\n",
    "SamsungGalaxy['galaxysentiment'].value_counts(sort=True)"
   ]
  },
  {
   "cell_type": "code",
   "execution_count": 639,
   "metadata": {},
   "outputs": [
    {
     "name": "stdout",
     "output_type": "stream",
     "text": [
      "Average Sentiment in Training Data \n",
      "\n",
      "Iphone: 3.724504740615124 \n",
      "Galaxy: 3.824327449317814\n"
     ]
    }
   ],
   "source": [
    "#average rating for Phone types \n",
    "\n",
    "p1 = Iphone['iphonesentiment'].mean()\n",
    "p2 = SamsungGalaxy['galaxysentiment'].mean()\n",
    "\n",
    "print('Average Sentiment in Training Data \\n\\nIphone: {one} \\nGalaxy: {two}'.format(one=p1,two=p2))"
   ]
  },
  {
   "cell_type": "markdown",
   "metadata": {},
   "source": [
    "### Correlation Matrix - Iphone"
   ]
  },
  {
   "cell_type": "code",
   "execution_count": 110,
   "metadata": {},
   "outputs": [
    {
     "data": {
      "text/plain": [
       "<matplotlib.axes._subplots.AxesSubplot at 0x139c3b29f28>"
      ]
     },
     "execution_count": 110,
     "metadata": {},
     "output_type": "execute_result"
    },
    {
     "data": {
      "image/png": "[encoded data removed]",
      "text/plain": [
       "<Figure size 1152x720 with 2 Axes>"
      ]
     },
     "metadata": {
      "needs_background": "light"
     },
     "output_type": "display_data"
    }
   ],
   "source": [
    "#detecting collinearity of features\n",
    "\n",
    "fig, ax = plt.subplots(1, 1, figsize = (16,10))\n",
    "\n",
    "fig.suptitle('Iphone - Correlation Matrix',fontsize=20)\n",
    "\n",
    "mask = np.zeros_like(Iphone.corr(), dtype=np.bool)\n",
    "\n",
    "mask[np.triu_indices_from(mask)] = True\n",
    "\n",
    "cmap = sns.diverging_palette(220, 10, as_cmap=True)\n",
    "\n",
    "sns.heatmap(Iphone.corr(),cmap=cmap,mask=mask,\n",
    "            square=True, linewidths=.5)"
   ]
  },
  {
   "cell_type": "code",
   "execution_count": 111,
   "metadata": {},
   "outputs": [
    {
     "data": {
      "text/plain": [
       "<matplotlib.axes._subplots.AxesSubplot at 0x139c687ecf8>"
      ]
     },
     "execution_count": 111,
     "metadata": {},
     "output_type": "execute_result"
    },
    {
     "data": {
      "image/png": "[encoded data removed]",
      "text/plain": [
       "<Figure size 1152x720 with 2 Axes>"
      ]
     },
     "metadata": {
      "needs_background": "light"
     },
     "output_type": "display_data"
    }
   ],
   "source": [
    "#detecting collinearity of features\n",
    "\n",
    "fig, ax = plt.subplots(1, 1, figsize = (16,10))\n",
    "\n",
    "fig.suptitle('Samsung Galaxy - Correlation Matrix',fontsize=20)\n",
    "\n",
    "mask = np.zeros_like(SamsungGalaxy.corr(), dtype=np.bool)\n",
    "\n",
    "mask[np.triu_indices_from(mask)] = True\n",
    "\n",
    "sns.heatmap(SamsungGalaxy.corr(),mask=mask,\n",
    "            square=True, linewidths=.5)"
   ]
  },
  {
   "cell_type": "markdown",
   "metadata": {},
   "source": [
    "### Feature Selection"
   ]
  },
  {
   "cell_type": "code",
   "execution_count": 412,
   "metadata": {},
   "outputs": [
    {
     "name": "stdout",
     "output_type": "stream",
     "text": [
      "Iphone Shape: (12973, 59)\n",
      "Samsung Shape: (12973, 59) \n",
      "\n",
      "nokialumina         0.002616\n",
      "sonycamunc          0.005848\n",
      "sonycamneg          0.007241\n",
      "sonyperunc          0.007549\n",
      "nokiacamunc         0.016407\n",
      "sonydisunc          0.022104\n",
      "sonycampos          0.026651\n",
      "sonyxperia          0.029332\n",
      "nokiaperunc         0.033580\n",
      "nokiacamneg         0.037581\n",
      "samsungcamunc       0.040121\n",
      "sonyperpos          0.041399\n",
      "nokiadisunc         0.045921\n",
      "nokiacampos         0.051834\n",
      "googleandroid       0.065035\n",
      "nokiadisneg         0.076178\n",
      "samsunggalaxy       0.078888\n",
      "googleperunc        0.081686\n",
      "sonyperneg          0.093160\n",
      "nokiaperneg         0.093867\n",
      "iosperunc           0.098428\n",
      "nokiaperpos         0.105191\n",
      "sonydispos          0.113962\n",
      "nokiadispos         0.137043\n",
      "samsungperunc       0.159162\n",
      "googleperpos        0.181987\n",
      "htccamunc           0.233751\n",
      "samsungdisunc       0.238240\n",
      "samsungcamneg       0.281155\n",
      "iosperpos           0.303310\n",
      "iosperneg           0.319610\n",
      "googleperneg        0.343437\n",
      "htcdisunc           0.424081\n",
      "htccamneg           0.484882\n",
      "samsungperneg       0.492032\n",
      "samsungcampos       0.505978\n",
      "samsungdisneg       0.525711\n",
      "samsungdispos       0.588907\n",
      "htcperunc           0.688301\n",
      "ios                 0.704057\n",
      "sonydisneg          0.759405\n",
      "samsungperpos       0.766828\n",
      "htcdisneg           0.816487\n",
      "htcperneg           0.837491\n",
      "iphonecamneg        0.907011\n",
      "iphoneperunc        1.257752\n",
      "htcperpos           1.351032\n",
      "iphonecamunc        1.546034\n",
      "htccampos           2.559563\n",
      "iphoneperneg        2.792548\n",
      "iphoneperpos        3.242761\n",
      "iphonesentiment     3.427488\n",
      "iphonedisunc        4.691716\n",
      "iphonecampos        4.791626\n",
      "iphonedisneg        7.713270\n",
      "iphonedispos        8.411451\n",
      "htcphone           17.838348\n",
      "htcdispos          18.674279\n",
      "iphone             32.083452\n",
      "dtype: float64\n"
     ]
    }
   ],
   "source": [
    "print('Iphone Shape:', Iphone.shape)\n",
    "print('Samsung Shape:',SamsungGalaxy.shape,'\\n')\n",
    "\n",
    "Iphone_variance = Iphone.var().sort_values()\n",
    "\n",
    "Samsung_variance = SamsungGalaxy.var().sort_values()\n",
    "\n",
    "print(Iphone_variance)"
   ]
  },
  {
   "cell_type": "code",
   "execution_count": 735,
   "metadata": {},
   "outputs": [],
   "source": [
    "Iphone_novariance = Iphone_variance[Iphone_variance < 1]\n",
    "Samsung_novariance = Samsung_variance[Samsung_variance <  1]"
   ]
  },
  {
   "cell_type": "code",
   "execution_count": 736,
   "metadata": {},
   "outputs": [],
   "source": [
    "Iphone_col_list = Iphone_novariance.index.values.tolist() \n",
    "Samsung_col_list = Samsung_novariance.index.values.tolist()"
   ]
  },
  {
   "cell_type": "code",
   "execution_count": 737,
   "metadata": {},
   "outputs": [],
   "source": [
    "Iphone.drop(columns = Iphone_col_list, inplace=True)\n",
    "SamsungGalaxy.drop(columns=Samsung_col_list, inplace=True)"
   ]
  },
  {
   "cell_type": "code",
   "execution_count": 738,
   "metadata": {},
   "outputs": [
    {
     "name": "stdout",
     "output_type": "stream",
     "text": [
      "Iphone Shape: (12973, 14)\n",
      "Samsung Shape: (12973, 14)\n"
     ]
    }
   ],
   "source": [
    "print('Iphone Shape:', Iphone.shape)\n",
    "print('Samsung Shape:',SamsungGalaxy.shape)"
   ]
  },
  {
   "cell_type": "code",
   "execution_count": 384,
   "metadata": {},
   "outputs": [
    {
     "data": {
      "text/plain": [
       "<matplotlib.axes._subplots.AxesSubplot at 0x139cea527f0>"
      ]
     },
     "execution_count": 384,
     "metadata": {},
     "output_type": "execute_result"
    },
    {
     "data": {
      "image/png": "[encoded data removed]",
      "text/plain": [
       "<Figure size 1152x720 with 2 Axes>"
      ]
     },
     "metadata": {
      "needs_background": "light"
     },
     "output_type": "display_data"
    }
   ],
   "source": [
    "#detecting collinearity of features\n",
    "\n",
    "fig, ax = plt.subplots(1, 1, figsize = (16,10))\n",
    "\n",
    "fig.suptitle('Iphone - Correlation Matrix',fontsize=20)\n",
    "\n",
    "mask = np.zeros_like(Iphone.corr(), dtype=np.bool)\n",
    "\n",
    "mask[np.triu_indices_from(mask)] = True\n",
    "\n",
    "cmap = sns.diverging_palette(220, 10, as_cmap=True)\n",
    "\n",
    "sns.heatmap(Iphone.corr(),cmap=cmap,mask=mask,\n",
    "            square=True, linewidths=.5)"
   ]
  },
  {
   "cell_type": "code",
   "execution_count": 417,
   "metadata": {},
   "outputs": [
    {
     "data": {
      "text/html": [
       "<div>\n",
       "<style scoped>\n",
       "    .dataframe tbody tr th:only-of-type {\n",
       "        vertical-align: middle;\n",
       "    }\n",
       "\n",
       "    .dataframe tbody tr th {\n",
       "        vertical-align: top;\n",
       "    }\n",
       "\n",
       "    .dataframe thead th {\n",
       "        text-align: right;\n",
       "    }\n",
       "</style>\n",
       "<table border=\"1\" class=\"dataframe\">\n",
       "  <thead>\n",
       "    <tr style=\"text-align: right;\">\n",
       "      <th></th>\n",
       "      <th>iphone</th>\n",
       "      <th>htcphone</th>\n",
       "      <th>iphonecampos</th>\n",
       "      <th>htccampos</th>\n",
       "      <th>iphonecamunc</th>\n",
       "      <th>iphonedispos</th>\n",
       "      <th>htcdispos</th>\n",
       "      <th>iphonedisneg</th>\n",
       "      <th>iphonedisunc</th>\n",
       "      <th>iphoneperpos</th>\n",
       "      <th>htcperpos</th>\n",
       "      <th>iphoneperneg</th>\n",
       "      <th>iphoneperunc</th>\n",
       "      <th>iphonesentiment</th>\n",
       "    </tr>\n",
       "  </thead>\n",
       "  <tbody>\n",
       "    <tr>\n",
       "      <th>iphone</th>\n",
       "      <td>1.0</td>\n",
       "      <td>NaN</td>\n",
       "      <td>NaN</td>\n",
       "      <td>NaN</td>\n",
       "      <td>NaN</td>\n",
       "      <td>NaN</td>\n",
       "      <td>NaN</td>\n",
       "      <td>NaN</td>\n",
       "      <td>NaN</td>\n",
       "      <td>NaN</td>\n",
       "      <td>NaN</td>\n",
       "      <td>NaN</td>\n",
       "      <td>NaN</td>\n",
       "      <td>NaN</td>\n",
       "    </tr>\n",
       "    <tr>\n",
       "      <th>htcphone</th>\n",
       "      <td>NaN</td>\n",
       "      <td>1.000000</td>\n",
       "      <td>NaN</td>\n",
       "      <td>NaN</td>\n",
       "      <td>NaN</td>\n",
       "      <td>NaN</td>\n",
       "      <td>0.977538</td>\n",
       "      <td>NaN</td>\n",
       "      <td>NaN</td>\n",
       "      <td>NaN</td>\n",
       "      <td>NaN</td>\n",
       "      <td>NaN</td>\n",
       "      <td>NaN</td>\n",
       "      <td>NaN</td>\n",
       "    </tr>\n",
       "    <tr>\n",
       "      <th>iphonecampos</th>\n",
       "      <td>NaN</td>\n",
       "      <td>NaN</td>\n",
       "      <td>1.0</td>\n",
       "      <td>NaN</td>\n",
       "      <td>NaN</td>\n",
       "      <td>NaN</td>\n",
       "      <td>NaN</td>\n",
       "      <td>NaN</td>\n",
       "      <td>NaN</td>\n",
       "      <td>NaN</td>\n",
       "      <td>NaN</td>\n",
       "      <td>NaN</td>\n",
       "      <td>NaN</td>\n",
       "      <td>NaN</td>\n",
       "    </tr>\n",
       "    <tr>\n",
       "      <th>htccampos</th>\n",
       "      <td>NaN</td>\n",
       "      <td>NaN</td>\n",
       "      <td>NaN</td>\n",
       "      <td>1.0</td>\n",
       "      <td>NaN</td>\n",
       "      <td>NaN</td>\n",
       "      <td>NaN</td>\n",
       "      <td>NaN</td>\n",
       "      <td>NaN</td>\n",
       "      <td>NaN</td>\n",
       "      <td>NaN</td>\n",
       "      <td>NaN</td>\n",
       "      <td>NaN</td>\n",
       "      <td>NaN</td>\n",
       "    </tr>\n",
       "    <tr>\n",
       "      <th>iphonecamunc</th>\n",
       "      <td>NaN</td>\n",
       "      <td>NaN</td>\n",
       "      <td>NaN</td>\n",
       "      <td>NaN</td>\n",
       "      <td>1.0</td>\n",
       "      <td>NaN</td>\n",
       "      <td>NaN</td>\n",
       "      <td>NaN</td>\n",
       "      <td>NaN</td>\n",
       "      <td>NaN</td>\n",
       "      <td>NaN</td>\n",
       "      <td>NaN</td>\n",
       "      <td>NaN</td>\n",
       "      <td>NaN</td>\n",
       "    </tr>\n",
       "    <tr>\n",
       "      <th>iphonedispos</th>\n",
       "      <td>NaN</td>\n",
       "      <td>NaN</td>\n",
       "      <td>NaN</td>\n",
       "      <td>NaN</td>\n",
       "      <td>NaN</td>\n",
       "      <td>1.0</td>\n",
       "      <td>NaN</td>\n",
       "      <td>NaN</td>\n",
       "      <td>NaN</td>\n",
       "      <td>NaN</td>\n",
       "      <td>NaN</td>\n",
       "      <td>NaN</td>\n",
       "      <td>NaN</td>\n",
       "      <td>NaN</td>\n",
       "    </tr>\n",
       "    <tr>\n",
       "      <th>htcdispos</th>\n",
       "      <td>NaN</td>\n",
       "      <td>0.977538</td>\n",
       "      <td>NaN</td>\n",
       "      <td>NaN</td>\n",
       "      <td>NaN</td>\n",
       "      <td>NaN</td>\n",
       "      <td>1.000000</td>\n",
       "      <td>NaN</td>\n",
       "      <td>NaN</td>\n",
       "      <td>NaN</td>\n",
       "      <td>NaN</td>\n",
       "      <td>NaN</td>\n",
       "      <td>NaN</td>\n",
       "      <td>NaN</td>\n",
       "    </tr>\n",
       "    <tr>\n",
       "      <th>iphonedisneg</th>\n",
       "      <td>NaN</td>\n",
       "      <td>NaN</td>\n",
       "      <td>NaN</td>\n",
       "      <td>NaN</td>\n",
       "      <td>NaN</td>\n",
       "      <td>NaN</td>\n",
       "      <td>NaN</td>\n",
       "      <td>1.0</td>\n",
       "      <td>NaN</td>\n",
       "      <td>NaN</td>\n",
       "      <td>NaN</td>\n",
       "      <td>NaN</td>\n",
       "      <td>NaN</td>\n",
       "      <td>NaN</td>\n",
       "    </tr>\n",
       "    <tr>\n",
       "      <th>iphonedisunc</th>\n",
       "      <td>NaN</td>\n",
       "      <td>NaN</td>\n",
       "      <td>NaN</td>\n",
       "      <td>NaN</td>\n",
       "      <td>NaN</td>\n",
       "      <td>NaN</td>\n",
       "      <td>NaN</td>\n",
       "      <td>NaN</td>\n",
       "      <td>1.0</td>\n",
       "      <td>NaN</td>\n",
       "      <td>NaN</td>\n",
       "      <td>NaN</td>\n",
       "      <td>NaN</td>\n",
       "      <td>NaN</td>\n",
       "    </tr>\n",
       "    <tr>\n",
       "      <th>iphoneperpos</th>\n",
       "      <td>NaN</td>\n",
       "      <td>NaN</td>\n",
       "      <td>NaN</td>\n",
       "      <td>NaN</td>\n",
       "      <td>NaN</td>\n",
       "      <td>NaN</td>\n",
       "      <td>NaN</td>\n",
       "      <td>NaN</td>\n",
       "      <td>NaN</td>\n",
       "      <td>1.0</td>\n",
       "      <td>NaN</td>\n",
       "      <td>NaN</td>\n",
       "      <td>NaN</td>\n",
       "      <td>NaN</td>\n",
       "    </tr>\n",
       "    <tr>\n",
       "      <th>htcperpos</th>\n",
       "      <td>NaN</td>\n",
       "      <td>NaN</td>\n",
       "      <td>NaN</td>\n",
       "      <td>NaN</td>\n",
       "      <td>NaN</td>\n",
       "      <td>NaN</td>\n",
       "      <td>NaN</td>\n",
       "      <td>NaN</td>\n",
       "      <td>NaN</td>\n",
       "      <td>NaN</td>\n",
       "      <td>1.0</td>\n",
       "      <td>NaN</td>\n",
       "      <td>NaN</td>\n",
       "      <td>NaN</td>\n",
       "    </tr>\n",
       "    <tr>\n",
       "      <th>iphoneperneg</th>\n",
       "      <td>NaN</td>\n",
       "      <td>NaN</td>\n",
       "      <td>NaN</td>\n",
       "      <td>NaN</td>\n",
       "      <td>NaN</td>\n",
       "      <td>NaN</td>\n",
       "      <td>NaN</td>\n",
       "      <td>NaN</td>\n",
       "      <td>NaN</td>\n",
       "      <td>NaN</td>\n",
       "      <td>NaN</td>\n",
       "      <td>1.0</td>\n",
       "      <td>NaN</td>\n",
       "      <td>NaN</td>\n",
       "    </tr>\n",
       "    <tr>\n",
       "      <th>iphoneperunc</th>\n",
       "      <td>NaN</td>\n",
       "      <td>NaN</td>\n",
       "      <td>NaN</td>\n",
       "      <td>NaN</td>\n",
       "      <td>NaN</td>\n",
       "      <td>NaN</td>\n",
       "      <td>NaN</td>\n",
       "      <td>NaN</td>\n",
       "      <td>NaN</td>\n",
       "      <td>NaN</td>\n",
       "      <td>NaN</td>\n",
       "      <td>NaN</td>\n",
       "      <td>1.0</td>\n",
       "      <td>NaN</td>\n",
       "    </tr>\n",
       "    <tr>\n",
       "      <th>iphonesentiment</th>\n",
       "      <td>NaN</td>\n",
       "      <td>NaN</td>\n",
       "      <td>NaN</td>\n",
       "      <td>NaN</td>\n",
       "      <td>NaN</td>\n",
       "      <td>NaN</td>\n",
       "      <td>NaN</td>\n",
       "      <td>NaN</td>\n",
       "      <td>NaN</td>\n",
       "      <td>NaN</td>\n",
       "      <td>NaN</td>\n",
       "      <td>NaN</td>\n",
       "      <td>NaN</td>\n",
       "      <td>1.0</td>\n",
       "    </tr>\n",
       "  </tbody>\n",
       "</table>\n",
       "</div>"
      ],
      "text/plain": [
       "                 iphone  htcphone  iphonecampos  htccampos  iphonecamunc  \\\n",
       "iphone              1.0       NaN           NaN        NaN           NaN   \n",
       "htcphone            NaN  1.000000           NaN        NaN           NaN   \n",
       "iphonecampos        NaN       NaN           1.0        NaN           NaN   \n",
       "htccampos           NaN       NaN           NaN        1.0           NaN   \n",
       "iphonecamunc        NaN       NaN           NaN        NaN           1.0   \n",
       "iphonedispos        NaN       NaN           NaN        NaN           NaN   \n",
       "htcdispos           NaN  0.977538           NaN        NaN           NaN   \n",
       "iphonedisneg        NaN       NaN           NaN        NaN           NaN   \n",
       "iphonedisunc        NaN       NaN           NaN        NaN           NaN   \n",
       "iphoneperpos        NaN       NaN           NaN        NaN           NaN   \n",
       "htcperpos           NaN       NaN           NaN        NaN           NaN   \n",
       "iphoneperneg        NaN       NaN           NaN        NaN           NaN   \n",
       "iphoneperunc        NaN       NaN           NaN        NaN           NaN   \n",
       "iphonesentiment     NaN       NaN           NaN        NaN           NaN   \n",
       "\n",
       "                 iphonedispos  htcdispos  iphonedisneg  iphonedisunc  \\\n",
       "iphone                    NaN        NaN           NaN           NaN   \n",
       "htcphone                  NaN   0.977538           NaN           NaN   \n",
       "iphonecampos              NaN        NaN           NaN           NaN   \n",
       "htccampos                 NaN        NaN           NaN           NaN   \n",
       "iphonecamunc              NaN        NaN           NaN           NaN   \n",
       "iphonedispos              1.0        NaN           NaN           NaN   \n",
       "htcdispos                 NaN   1.000000           NaN           NaN   \n",
       "iphonedisneg              NaN        NaN           1.0           NaN   \n",
       "iphonedisunc              NaN        NaN           NaN           1.0   \n",
       "iphoneperpos              NaN        NaN           NaN           NaN   \n",
       "htcperpos                 NaN        NaN           NaN           NaN   \n",
       "iphoneperneg              NaN        NaN           NaN           NaN   \n",
       "iphoneperunc              NaN        NaN           NaN           NaN   \n",
       "iphonesentiment           NaN        NaN           NaN           NaN   \n",
       "\n",
       "                 iphoneperpos  htcperpos  iphoneperneg  iphoneperunc  \\\n",
       "iphone                    NaN        NaN           NaN           NaN   \n",
       "htcphone                  NaN        NaN           NaN           NaN   \n",
       "iphonecampos              NaN        NaN           NaN           NaN   \n",
       "htccampos                 NaN        NaN           NaN           NaN   \n",
       "iphonecamunc              NaN        NaN           NaN           NaN   \n",
       "iphonedispos              NaN        NaN           NaN           NaN   \n",
       "htcdispos                 NaN        NaN           NaN           NaN   \n",
       "iphonedisneg              NaN        NaN           NaN           NaN   \n",
       "iphonedisunc              NaN        NaN           NaN           NaN   \n",
       "iphoneperpos              1.0        NaN           NaN           NaN   \n",
       "htcperpos                 NaN        1.0           NaN           NaN   \n",
       "iphoneperneg              NaN        NaN           1.0           NaN   \n",
       "iphoneperunc              NaN        NaN           NaN           1.0   \n",
       "iphonesentiment           NaN        NaN           NaN           NaN   \n",
       "\n",
       "                 iphonesentiment  \n",
       "iphone                       NaN  \n",
       "htcphone                     NaN  \n",
       "iphonecampos                 NaN  \n",
       "htccampos                    NaN  \n",
       "iphonecamunc                 NaN  \n",
       "iphonedispos                 NaN  \n",
       "htcdispos                    NaN  \n",
       "iphonedisneg                 NaN  \n",
       "iphonedisunc                 NaN  \n",
       "iphoneperpos                 NaN  \n",
       "htcperpos                    NaN  \n",
       "iphoneperneg                 NaN  \n",
       "iphoneperunc                 NaN  \n",
       "iphonesentiment              1.0  "
      ]
     },
     "execution_count": 417,
     "metadata": {},
     "output_type": "execute_result"
    }
   ],
   "source": [
    "Iphone.corr()[Iphone.corr()>0.9]"
   ]
  },
  {
   "cell_type": "markdown",
   "metadata": {},
   "source": [
    "### Modeling Process"
   ]
  },
  {
   "cell_type": "code",
   "execution_count": 626,
   "metadata": {},
   "outputs": [],
   "source": [
    "# Classification\n",
    "\n",
    "from sklearn.svm import LinearSVC\n",
    "from sklearn.datasets import make_classification\n",
    "from sklearn.svm import SVC\n",
    "from sklearn.model_selection import GridSearchCV\n",
    "from sklearn.metrics import classification_report,confusion_matrix\n",
    "from sklearn.metrics import cohen_kappa_score\n",
    "from sklearn.metrics import accuracy_score"
   ]
  },
  {
   "cell_type": "code",
   "execution_count": 756,
   "metadata": {},
   "outputs": [],
   "source": [
    "# split Data in training and test sets for IPhone\n",
    "\n",
    "from sklearn.model_selection import train_test_split\n",
    "\n",
    "#separate dependent(target) variable and independent variables\n",
    "\n",
    "target = Iphone.loc[:, Iphone.columns == 'iphonesentiment']\n",
    "\n",
    "df = Iphone.drop(['iphonesentiment'],axis=1)\n",
    "\n",
    "#split Data\n",
    "X_train, X_test, y_train, y_test = train_test_split(df, target, test_size=0.25, random_state=42)"
   ]
  },
  {
   "cell_type": "code",
   "execution_count": 757,
   "metadata": {},
   "outputs": [],
   "source": [
    "# split Data in training and test sets for Samsung Galaxy\n",
    "\n",
    "from sklearn.model_selection import train_test_split\n",
    "\n",
    "#separate dependent(target) variable and independent variables\n",
    "\n",
    "target2 = SamsungGalaxy.loc[:, SamsungGalaxy.columns == 'galaxysentiment']\n",
    "\n",
    "df2 = SamsungGalaxy.drop(['galaxysentiment'],axis=1)\n",
    "\n",
    "#split Data\n",
    "X_train2, X_test2, y_train2, y_test2 = train_test_split(df2, target2, test_size=0.25, random_state=42)"
   ]
  },
  {
   "cell_type": "markdown",
   "metadata": {},
   "source": [
    "### SVC (Support Vector Classifier)"
   ]
  },
  {
   "cell_type": "code",
   "execution_count": 445,
   "metadata": {},
   "outputs": [],
   "source": [
    "def svc_param_selection(X, y, nfolds):\n",
    "    Cs = [0.1, 1, 5, 6, 7, 8]\n",
    "    gammas = [0.001, 0.01, 0.1, 1]\n",
    "    param_grid = {'C': Cs, 'gamma' : gammas}\n",
    "    grid_search = GridSearchCV(SVC(kernel='rbf'), param_grid, cv=nfolds)\n",
    "    grid_search.fit(X, y)\n",
    "    grid_search.best_params_\n",
    "    return grid_search.best_params_"
   ]
  },
  {
   "cell_type": "code",
   "execution_count": 447,
   "metadata": {},
   "outputs": [
    {
     "data": {
      "text/plain": [
       "{'C': 5, 'gamma': 0.1}"
      ]
     },
     "execution_count": 447,
     "metadata": {},
     "output_type": "execute_result"
    }
   ],
   "source": [
    "import warnings\n",
    "warnings.filterwarnings('ignore')\n",
    "\n",
    "svc_param_selection(X_train,y_train, 5)"
   ]
  },
  {
   "cell_type": "code",
   "execution_count": 803,
   "metadata": {},
   "outputs": [],
   "source": [
    "# optimal parameter combination for SVM model \n",
    "model = SVC(C=5, gamma=0.1, kernel='rbf')"
   ]
  },
  {
   "cell_type": "code",
   "execution_count": 804,
   "metadata": {},
   "outputs": [
    {
     "data": {
      "text/plain": [
       "SVC(C=5, cache_size=200, class_weight=None, coef0=0.0,\n",
       "  decision_function_shape='ovr', degree=3, gamma=0.1, kernel='rbf',\n",
       "  max_iter=-1, probability=False, random_state=None, shrinking=True,\n",
       "  tol=0.001, verbose=False)"
      ]
     },
     "execution_count": 804,
     "metadata": {},
     "output_type": "execute_result"
    }
   ],
   "source": [
    "model.fit(X_train,y_train)"
   ]
  },
  {
   "cell_type": "code",
   "execution_count": 805,
   "metadata": {},
   "outputs": [],
   "source": [
    "predictions = model.predict(X_test)"
   ]
  },
  {
   "cell_type": "code",
   "execution_count": 806,
   "metadata": {},
   "outputs": [
    {
     "name": "stdout",
     "output_type": "stream",
     "text": [
      "[[ 268    2  296]\n",
      " [   2  214  204]\n",
      " [   5    8 2245]]\n"
     ]
    }
   ],
   "source": [
    "print(confusion_matrix(y_test,predictions))"
   ]
  },
  {
   "cell_type": "code",
   "execution_count": 807,
   "metadata": {},
   "outputs": [
    {
     "name": "stdout",
     "output_type": "stream",
     "text": [
      "              precision    recall  f1-score   support\n",
      "\n",
      "           0       0.97      0.47      0.64       566\n",
      "           3       0.96      0.51      0.66       420\n",
      "           6       0.82      0.99      0.90      2258\n",
      "\n",
      "   micro avg       0.84      0.84      0.84      3244\n",
      "   macro avg       0.92      0.66      0.73      3244\n",
      "weighted avg       0.86      0.84      0.82      3244\n",
      "\n"
     ]
    }
   ],
   "source": [
    "#target_names = ['VERY NEGATIVE', 'NEGATIVE', 'SOMEWHAT NEGATIVE','SOMEWHAT POSITIVE','POSITIVE','VERY POSITIVE']\n",
    "#target_names=target_names)\n",
    "print(classification_report(y_test,predictions))\n"
   ]
  },
  {
   "cell_type": "code",
   "execution_count": 808,
   "metadata": {},
   "outputs": [
    {
     "name": "stdout",
     "output_type": "stream",
     "text": [
      "Accuracy:  0.8406288532675709\n",
      "Kappa:     0.5884901251252578\n"
     ]
    }
   ],
   "source": [
    "print('Accuracy: ',accuracy_score(y_test,predictions))\n",
    "print('Kappa:    ', cohen_kappa_score(predictions,y_test))"
   ]
  },
  {
   "cell_type": "markdown",
   "metadata": {},
   "source": [
    "### KNN"
   ]
  },
  {
   "cell_type": "code",
   "execution_count": 514,
   "metadata": {},
   "outputs": [],
   "source": [
    "from sklearn import neighbors\n",
    "\n",
    "knn = neighbors.KNeighborsClassifier()\n",
    "\n",
    "def knn_param_selection(X, y, nfolds):\n",
    "    K = [1,2,3,4,5,6,7,8,9,10]\n",
    "    \n",
    "    param_grid = {'n_neighbors': K}\n",
    "    grid_search = GridSearchCV(knn, param_grid, cv=nfolds)\n",
    "    grid_search.fit(X, y)\n",
    "    grid_search.best_params_\n",
    "    return grid_search.best_params_"
   ]
  },
  {
   "cell_type": "code",
   "execution_count": 515,
   "metadata": {},
   "outputs": [
    {
     "data": {
      "text/plain": [
       "{'n_neighbors': 9}"
      ]
     },
     "execution_count": 515,
     "metadata": {},
     "output_type": "execute_result"
    }
   ],
   "source": [
    "knn_param_selection(X_train,y_train, 5)"
   ]
  },
  {
   "cell_type": "code",
   "execution_count": 809,
   "metadata": {},
   "outputs": [],
   "source": [
    "#optimal model\n",
    "model = neighbors.KNeighborsClassifier(n_neighbors = 9)"
   ]
  },
  {
   "cell_type": "code",
   "execution_count": 810,
   "metadata": {},
   "outputs": [
    {
     "data": {
      "text/plain": [
       "KNeighborsClassifier(algorithm='auto', leaf_size=30, metric='minkowski',\n",
       "           metric_params=None, n_jobs=None, n_neighbors=9, p=2,\n",
       "           weights='uniform')"
      ]
     },
     "execution_count": 810,
     "metadata": {},
     "output_type": "execute_result"
    }
   ],
   "source": [
    "model.fit(X_train,y_train)"
   ]
  },
  {
   "cell_type": "code",
   "execution_count": 811,
   "metadata": {},
   "outputs": [],
   "source": [
    "predictions = model.predict(X_test)"
   ]
  },
  {
   "cell_type": "code",
   "execution_count": 812,
   "metadata": {},
   "outputs": [
    {
     "name": "stdout",
     "output_type": "stream",
     "text": [
      "[[ 283    2  281]\n",
      " [   4  210  206]\n",
      " [  12   20 2226]]\n"
     ]
    }
   ],
   "source": [
    "print(confusion_matrix(y_test,predictions))"
   ]
  },
  {
   "cell_type": "code",
   "execution_count": 813,
   "metadata": {},
   "outputs": [
    {
     "name": "stdout",
     "output_type": "stream",
     "text": [
      "              precision    recall  f1-score   support\n",
      "\n",
      "           0       0.95      0.50      0.65       566\n",
      "           3       0.91      0.50      0.64       420\n",
      "           6       0.82      0.99      0.90      2258\n",
      "\n",
      "   micro avg       0.84      0.84      0.84      3244\n",
      "   macro avg       0.89      0.66      0.73      3244\n",
      "weighted avg       0.85      0.84      0.82      3244\n",
      "\n"
     ]
    }
   ],
   "source": [
    "#target_names = ['VERY NEGATIVE', 'NEGATIVE', 'SOMEWHAT NEGATIVE','SOMEWHAT POSITIVE','POSITIVE','VERY POSITIVE']\n",
    "#,target_names=target_names\n",
    "print(classification_report(y_test,predictions))"
   ]
  },
  {
   "cell_type": "code",
   "execution_count": 814,
   "metadata": {},
   "outputs": [
    {
     "name": "stdout",
     "output_type": "stream",
     "text": [
      "Accuracy:  0.8381627620221949\n",
      "Kappa:     0.587717760840958\n"
     ]
    }
   ],
   "source": [
    "print('Accuracy: ',accuracy_score(y_test,predictions))\n",
    "print('Kappa:    ', cohen_kappa_score(predictions,y_test))"
   ]
  },
  {
   "cell_type": "markdown",
   "metadata": {},
   "source": [
    "### Random Forest Classifier"
   ]
  },
  {
   "cell_type": "code",
   "execution_count": 659,
   "metadata": {},
   "outputs": [],
   "source": [
    "from sklearn.ensemble import RandomForestClassifier"
   ]
  },
  {
   "cell_type": "code",
   "execution_count": 476,
   "metadata": {},
   "outputs": [],
   "source": [
    "RF = RandomForestClassifier()\n",
    "\n",
    "def RF_param_selection(X, y, nfolds):\n",
    "    trees = [700,800,900,950]\n",
    "    maxfeatures = [2,3,4]\n",
    "    \n",
    "    param_grid = {'n_estimators': trees, 'max_features': maxfeatures}\n",
    "    grid_search = GridSearchCV(RF, param_grid, cv=nfolds)\n",
    "    grid_search.fit(X, y)\n",
    "    grid_search.best_params_\n",
    "    return grid_search.best_params_"
   ]
  },
  {
   "cell_type": "code",
   "execution_count": 477,
   "metadata": {},
   "outputs": [
    {
     "data": {
      "text/plain": [
       "{'max_features': 4, 'n_estimators': 700}"
      ]
     },
     "execution_count": 477,
     "metadata": {},
     "output_type": "execute_result"
    }
   ],
   "source": [
    "RF_param_selection(X_train,y_train, 5)"
   ]
  },
  {
   "cell_type": "code",
   "execution_count": 815,
   "metadata": {},
   "outputs": [],
   "source": [
    "#optimal model\n",
    "model = RandomForestClassifier(n_estimators=700, max_features=4)"
   ]
  },
  {
   "cell_type": "code",
   "execution_count": 816,
   "metadata": {},
   "outputs": [
    {
     "data": {
      "text/plain": [
       "RandomForestClassifier(bootstrap=True, class_weight=None, criterion='gini',\n",
       "            max_depth=None, max_features=4, max_leaf_nodes=None,\n",
       "            min_impurity_decrease=0.0, min_impurity_split=None,\n",
       "            min_samples_leaf=1, min_samples_split=2,\n",
       "            min_weight_fraction_leaf=0.0, n_estimators=700, n_jobs=None,\n",
       "            oob_score=False, random_state=None, verbose=0,\n",
       "            warm_start=False)"
      ]
     },
     "execution_count": 816,
     "metadata": {},
     "output_type": "execute_result"
    }
   ],
   "source": [
    "model.fit(X_train,y_train)"
   ]
  },
  {
   "cell_type": "code",
   "execution_count": 817,
   "metadata": {},
   "outputs": [],
   "source": [
    "predictions = model.predict(X_test)"
   ]
  },
  {
   "cell_type": "code",
   "execution_count": 818,
   "metadata": {},
   "outputs": [
    {
     "name": "stdout",
     "output_type": "stream",
     "text": [
      "[[ 287    3  276]\n",
      " [   3  220  197]\n",
      " [  12   15 2231]]\n"
     ]
    }
   ],
   "source": [
    "print(confusion_matrix(y_test,predictions))"
   ]
  },
  {
   "cell_type": "code",
   "execution_count": 819,
   "metadata": {},
   "outputs": [
    {
     "name": "stdout",
     "output_type": "stream",
     "text": [
      "              precision    recall  f1-score   support\n",
      "\n",
      "           0       0.95      0.51      0.66       566\n",
      "           3       0.92      0.52      0.67       420\n",
      "           6       0.83      0.99      0.90      2258\n",
      "\n",
      "   micro avg       0.84      0.84      0.84      3244\n",
      "   macro avg       0.90      0.67      0.74      3244\n",
      "weighted avg       0.86      0.84      0.83      3244\n",
      "\n"
     ]
    }
   ],
   "source": [
    "target_names = ['VERY NEGATIVE', 'NEGATIVE', 'SOMEWHAT NEGATIVE','SOMEWHAT POSITIVE','POSITIVE','VERY POSITIVE']\n",
    "#,target_names=target_names)\n",
    "print(classification_report(y_test,predictions))"
   ]
  },
  {
   "cell_type": "code",
   "execution_count": 820,
   "metadata": {},
   "outputs": [
    {
     "name": "stdout",
     "output_type": "stream",
     "text": [
      "Accuracy:  0.844019728729963\n",
      "Kappa:     0.604181516716132\n"
     ]
    }
   ],
   "source": [
    "print('Accuracy: ',accuracy_score(y_test,predictions))\n",
    "print('Kappa:    ', cohen_kappa_score(predictions,y_test))"
   ]
  },
  {
   "cell_type": "markdown",
   "metadata": {},
   "source": [
    "### Neural Network"
   ]
  },
  {
   "cell_type": "code",
   "execution_count": 274,
   "metadata": {},
   "outputs": [],
   "source": [
    "from sklearn.neural_network import MLPClassifier"
   ]
  },
  {
   "cell_type": "code",
   "execution_count": 797,
   "metadata": {},
   "outputs": [],
   "source": [
    "model = MLPClassifier(hidden_layer_sizes=(50,))"
   ]
  },
  {
   "cell_type": "code",
   "execution_count": 821,
   "metadata": {},
   "outputs": [
    {
     "data": {
      "text/plain": [
       "RandomForestClassifier(bootstrap=True, class_weight=None, criterion='gini',\n",
       "            max_depth=None, max_features=4, max_leaf_nodes=None,\n",
       "            min_impurity_decrease=0.0, min_impurity_split=None,\n",
       "            min_samples_leaf=1, min_samples_split=2,\n",
       "            min_weight_fraction_leaf=0.0, n_estimators=700, n_jobs=None,\n",
       "            oob_score=False, random_state=None, verbose=0,\n",
       "            warm_start=False)"
      ]
     },
     "execution_count": 821,
     "metadata": {},
     "output_type": "execute_result"
    }
   ],
   "source": [
    "model.fit(X_train, y_train)"
   ]
  },
  {
   "cell_type": "code",
   "execution_count": 822,
   "metadata": {},
   "outputs": [],
   "source": [
    "predictions = model.predict(X_test)"
   ]
  },
  {
   "cell_type": "code",
   "execution_count": 823,
   "metadata": {},
   "outputs": [
    {
     "name": "stdout",
     "output_type": "stream",
     "text": [
      "[[ 288    1  277]\n",
      " [   3  220  197]\n",
      " [  12   15 2231]]\n"
     ]
    }
   ],
   "source": [
    "print(confusion_matrix(y_test,predictions))"
   ]
  },
  {
   "cell_type": "code",
   "execution_count": 824,
   "metadata": {},
   "outputs": [
    {
     "name": "stdout",
     "output_type": "stream",
     "text": [
      "              precision    recall  f1-score   support\n",
      "\n",
      "           0       0.95      0.51      0.66       566\n",
      "           3       0.93      0.52      0.67       420\n",
      "           6       0.82      0.99      0.90      2258\n",
      "\n",
      "   micro avg       0.84      0.84      0.84      3244\n",
      "   macro avg       0.90      0.67      0.74      3244\n",
      "weighted avg       0.86      0.84      0.83      3244\n",
      "\n"
     ]
    }
   ],
   "source": [
    "target_names = ['VERY NEGATIVE', 'NEGATIVE', 'SOMEWHAT NEGATIVE','SOMEWHAT POSITIVE','POSITIVE','VERY POSITIVE']\n",
    "#,target_names=target_names\n",
    "print(classification_report(y_test,predictions))"
   ]
  },
  {
   "cell_type": "code",
   "execution_count": 825,
   "metadata": {},
   "outputs": [
    {
     "name": "stdout",
     "output_type": "stream",
     "text": [
      "Accuracy:  0.844327990135635\n",
      "Kappa:     0.6047746842723378\n"
     ]
    }
   ],
   "source": [
    "print('Accuracy: ',accuracy_score(y_test,predictions))\n",
    "print('Kappa:    ', cohen_kappa_score(predictions,y_test))"
   ]
  },
  {
   "cell_type": "code",
   "execution_count": 715,
   "metadata": {},
   "outputs": [
    {
     "name": "stdout",
     "output_type": "stream",
     "text": [
      "[[ 285    0    0    1    1  118]\n",
      " [   0    0    1    0    1   90]\n",
      " [   0    0   13    0    1  104]\n",
      " [   2    0    0  204    0   99]\n",
      " [   3    0    0    1  123  262]\n",
      " [   4    0    0    7    8 1916]]\n"
     ]
    }
   ],
   "source": [
    "#model training for Samsung Galaxy\n",
    "\n",
    "model2 = MLPClassifier()\n",
    "\n",
    "model2.fit(X_train2, y_train2)\n",
    "\n",
    "predictions2 = model2.predict(X_test2)\n",
    "\n",
    "print(confusion_matrix(y_test2,predictions2))"
   ]
  },
  {
   "cell_type": "code",
   "execution_count": 716,
   "metadata": {},
   "outputs": [
    {
     "name": "stdout",
     "output_type": "stream",
     "text": [
      "              precision    recall  f1-score   support\n",
      "\n",
      "           0       0.97      0.61      0.75       466\n",
      "           1       0.00      0.00      0.00       100\n",
      "           2       0.63      0.10      0.17       121\n",
      "           3       0.95      0.69      0.80       299\n",
      "           4       0.92      0.31      0.47       381\n",
      "           5       0.72      0.99      0.83      1877\n",
      "\n",
      "   micro avg       0.76      0.76      0.76      3244\n",
      "   macro avg       0.70      0.45      0.50      3244\n",
      "weighted avg       0.77      0.76      0.72      3244\n",
      "\n",
      "Accuracy:  0.783292231812577\n",
      "Kappa:     0.5677542566273592\n"
     ]
    }
   ],
   "source": [
    "target_names = ['VERY NEGATIVE', 'NEGATIVE', 'SOMEWHAT NEGATIVE','SOMEWHAT POSITIVE','POSITIVE','VERY POSITIVE']\n",
    "\n",
    "print(classification_report(y_test,predictions))\n",
    "print('Accuracy: ',accuracy_score(y_test2,predictions2))\n",
    "print('Kappa:    ', cohen_kappa_score(predictions2,y_test2))"
   ]
  },
  {
   "cell_type": "markdown",
   "metadata": {},
   "source": [
    "### Logistic Regression"
   ]
  },
  {
   "cell_type": "code",
   "execution_count": 568,
   "metadata": {},
   "outputs": [],
   "source": [
    "from sklearn.linear_model import LogisticRegression"
   ]
  },
  {
   "cell_type": "code",
   "execution_count": 826,
   "metadata": {},
   "outputs": [],
   "source": [
    "model = LogisticRegression()"
   ]
  },
  {
   "cell_type": "code",
   "execution_count": 827,
   "metadata": {},
   "outputs": [
    {
     "data": {
      "text/plain": [
       "LogisticRegression(C=1.0, class_weight=None, dual=False, fit_intercept=True,\n",
       "          intercept_scaling=1, max_iter=100, multi_class='warn',\n",
       "          n_jobs=None, penalty='l2', random_state=None, solver='warn',\n",
       "          tol=0.0001, verbose=0, warm_start=False)"
      ]
     },
     "execution_count": 827,
     "metadata": {},
     "output_type": "execute_result"
    }
   ],
   "source": [
    "model.fit(X_train, y_train)"
   ]
  },
  {
   "cell_type": "code",
   "execution_count": 828,
   "metadata": {},
   "outputs": [],
   "source": [
    "predictions = model.predict(X_test)"
   ]
  },
  {
   "cell_type": "code",
   "execution_count": 829,
   "metadata": {},
   "outputs": [
    {
     "name": "stdout",
     "output_type": "stream",
     "text": [
      "[[ 252    7  307]\n",
      " [  17   96  307]\n",
      " [  26    3 2229]]\n"
     ]
    }
   ],
   "source": [
    "print(confusion_matrix(y_test,predictions))"
   ]
  },
  {
   "cell_type": "code",
   "execution_count": 830,
   "metadata": {},
   "outputs": [
    {
     "name": "stdout",
     "output_type": "stream",
     "text": [
      "              precision    recall  f1-score   support\n",
      "\n",
      "           0       0.85      0.45      0.59       566\n",
      "           3       0.91      0.23      0.37       420\n",
      "           6       0.78      0.99      0.87      2258\n",
      "\n",
      "   micro avg       0.79      0.79      0.79      3244\n",
      "   macro avg       0.85      0.55      0.61      3244\n",
      "weighted avg       0.81      0.79      0.76      3244\n",
      "\n"
     ]
    }
   ],
   "source": [
    "print(classification_report(y_test,predictions))"
   ]
  },
  {
   "cell_type": "code",
   "execution_count": 832,
   "metadata": {},
   "outputs": [
    {
     "name": "stdout",
     "output_type": "stream",
     "text": [
      "Accuracy:  0.7943896424167695\n",
      "Kappa:     0.4441312537379076\n"
     ]
    }
   ],
   "source": [
    "print('Accuracy: ',accuracy_score(y_test,predictions))\n",
    "print('Kappa:    ', cohen_kappa_score(predictions,y_test))"
   ]
  },
  {
   "cell_type": "markdown",
   "metadata": {},
   "source": [
    "### Using Regression instead of Classification for modeling process"
   ]
  },
  {
   "cell_type": "markdown",
   "metadata": {},
   "source": [
    "#### Random Forest Regressor"
   ]
  },
  {
   "cell_type": "code",
   "execution_count": 726,
   "metadata": {},
   "outputs": [],
   "source": [
    "from sklearn.ensemble import RandomForestRegressor"
   ]
  },
  {
   "cell_type": "code",
   "execution_count": 728,
   "metadata": {},
   "outputs": [],
   "source": [
    "model = RandomForestRegressor()\n",
    "\n",
    "def RF_param_selection(X, y, nfolds):\n",
    "    trees = [100,200,250,300,400,500]\n",
    "    \n",
    "    param_grid = {'n_estimators': trees}\n",
    "    grid_search = GridSearchCV(RF, param_grid, cv=nfolds)\n",
    "    grid_search.fit(X, y)\n",
    "    grid_search.best_params_\n",
    "    return grid_search.best_params_"
   ]
  },
  {
   "cell_type": "code",
   "execution_count": 729,
   "metadata": {},
   "outputs": [
    {
     "data": {
      "text/plain": [
       "{'n_estimators': 500}"
      ]
     },
     "execution_count": 729,
     "metadata": {},
     "output_type": "execute_result"
    }
   ],
   "source": [
    "RF_param_selection(X_train,y_train, 5)"
   ]
  },
  {
   "cell_type": "code",
   "execution_count": 762,
   "metadata": {},
   "outputs": [],
   "source": [
    "#optimal model\n",
    "model = RandomForestRegressor(n_estimators = 500)"
   ]
  },
  {
   "cell_type": "code",
   "execution_count": 763,
   "metadata": {},
   "outputs": [
    {
     "data": {
      "text/plain": [
       "RandomForestRegressor(bootstrap=True, criterion='mse', max_depth=None,\n",
       "           max_features='auto', max_leaf_nodes=None,\n",
       "           min_impurity_decrease=0.0, min_impurity_split=None,\n",
       "           min_samples_leaf=1, min_samples_split=2,\n",
       "           min_weight_fraction_leaf=0.0, n_estimators=500, n_jobs=None,\n",
       "           oob_score=False, random_state=None, verbose=0, warm_start=False)"
      ]
     },
     "execution_count": 763,
     "metadata": {},
     "output_type": "execute_result"
    }
   ],
   "source": [
    "model.fit(X_train, y_train)"
   ]
  },
  {
   "cell_type": "code",
   "execution_count": 764,
   "metadata": {},
   "outputs": [],
   "source": [
    "prediction = model.predict(X_test)"
   ]
  },
  {
   "cell_type": "code",
   "execution_count": 765,
   "metadata": {},
   "outputs": [
    {
     "name": "stdout",
     "output_type": "stream",
     "text": [
      "mean absolute error:  1.159195439938722\n",
      "mean squared error:  3.2500735736446127\n",
      "r2_score 0.39661226490082424\n"
     ]
    }
   ],
   "source": [
    "from sklearn.metrics import mean_absolute_error\n",
    "from sklearn.metrics import mean_squared_error\n",
    "from sklearn.metrics import r2_score\n",
    "\n",
    "print(\"mean absolute error: \", mean_absolute_error(y_test,prediction))\n",
    "print(\"mean squared error: \", mean_squared_error(y_test,prediction))\n",
    "print(\"r2_score\", r2_score(y_test, prediction))"
   ]
  },
  {
   "cell_type": "markdown",
   "metadata": {},
   "source": [
    "### Making predictions for the Large Data Set"
   ]
  },
  {
   "cell_type": "code",
   "execution_count": 723,
   "metadata": {},
   "outputs": [
    {
     "data": {
      "text/plain": [
       "MLPClassifier(activation='relu', alpha=0.0001, batch_size='auto', beta_1=0.9,\n",
       "       beta_2=0.999, early_stopping=False, epsilon=1e-08,\n",
       "       hidden_layer_sizes=(100,), learning_rate='constant',\n",
       "       learning_rate_init=0.001, max_iter=200, momentum=0.9,\n",
       "       n_iter_no_change=10, nesterovs_momentum=True, power_t=0.5,\n",
       "       random_state=None, shuffle=True, solver='adam', tol=0.0001,\n",
       "       validation_fraction=0.1, verbose=False, warm_start=False)"
      ]
     },
     "execution_count": 723,
     "metadata": {},
     "output_type": "execute_result"
    }
   ],
   "source": [
    "#optimal model for predictions with accuracy of 84% and Kappa of 60%\n",
    "\n",
    "model = MLPClassifier()\n",
    "model.fit(X_train, y_train)\n",
    "\n",
    "model2 = MLPClassifier()\n",
    "model2.fit(X_train2, y_train2)"
   ]
  },
  {
   "cell_type": "code",
   "execution_count": 675,
   "metadata": {},
   "outputs": [],
   "source": [
    "#predicting sentiment towards Iphone for 3 classes (0=negative,3=neutral,6=positive)\n",
    "\n",
    "iphonesen_3classes = model.predict(LargeMatrix)"
   ]
  },
  {
   "cell_type": "code",
   "execution_count": 684,
   "metadata": {},
   "outputs": [],
   "source": [
    "#predicting sentiment towards Iphone for 3 classes (0=negative,3=neutral,6=positive)\n",
    "\n",
    "galaxysen_3classes = model2.predict(LargeMatrix)"
   ]
  },
  {
   "cell_type": "code",
   "execution_count": 724,
   "metadata": {},
   "outputs": [],
   "source": [
    "#predicting sentiment towards Iphone for 6 classes \n",
    "\n",
    "iphonesentiment = model.predict(LargeMatrix)"
   ]
  },
  {
   "cell_type": "code",
   "execution_count": 725,
   "metadata": {},
   "outputs": [],
   "source": [
    "#predicting sentiment towards Iphone for 3 classes (0=negative,3=neutral,6=positive)\n",
    "\n",
    "galaxysentiment = model2.predict(LargeMatrix)"
   ]
  },
  {
   "cell_type": "code",
   "execution_count": 766,
   "metadata": {},
   "outputs": [],
   "source": [
    "#including predictions into Data Frame\n",
    "\n",
    "LargeMatrix['iphonesen_3classes'] = iphonesen_3classes\n",
    "\n",
    "LargeMatrix['galaxysen_3classes'] = galaxysen_3classes\n",
    "\n",
    "LargeMatrix['iphonesentiment'] = iphonesentiment\n",
    "\n",
    "LargeMatrix['galaxysentiment'] = galaxysentiment"
   ]
  },
  {
   "cell_type": "code",
   "execution_count": 767,
   "metadata": {},
   "outputs": [
    {
     "data": {
      "text/plain": [
       "(36712, 62)"
      ]
     },
     "execution_count": 767,
     "metadata": {},
     "output_type": "execute_result"
    }
   ],
   "source": [
    "LargeMatrix.shape"
   ]
  },
  {
   "cell_type": "code",
   "execution_count": 769,
   "metadata": {},
   "outputs": [
    {
     "data": {
      "text/html": [
       "<div>\n",
       "<style scoped>\n",
       "    .dataframe tbody tr th:only-of-type {\n",
       "        vertical-align: middle;\n",
       "    }\n",
       "\n",
       "    .dataframe tbody tr th {\n",
       "        vertical-align: top;\n",
       "    }\n",
       "\n",
       "    .dataframe thead th {\n",
       "        text-align: right;\n",
       "    }\n",
       "</style>\n",
       "<table border=\"1\" class=\"dataframe\">\n",
       "  <thead>\n",
       "    <tr style=\"text-align: right;\">\n",
       "      <th></th>\n",
       "      <th>iphone</th>\n",
       "      <th>samsunggalaxy</th>\n",
       "      <th>sonyxperia</th>\n",
       "      <th>nokialumina</th>\n",
       "      <th>htcphone</th>\n",
       "      <th>ios</th>\n",
       "      <th>googleandroid</th>\n",
       "      <th>iphonecampos</th>\n",
       "      <th>samsungcampos</th>\n",
       "      <th>sonycampos</th>\n",
       "      <th>...</th>\n",
       "      <th>iosperpos</th>\n",
       "      <th>googleperpos</th>\n",
       "      <th>iosperneg</th>\n",
       "      <th>googleperneg</th>\n",
       "      <th>iosperunc</th>\n",
       "      <th>googleperunc</th>\n",
       "      <th>iphonesen_3classes</th>\n",
       "      <th>galaxysen_3classes</th>\n",
       "      <th>iphonesentiment</th>\n",
       "      <th>galaxysentiment</th>\n",
       "    </tr>\n",
       "  </thead>\n",
       "  <tbody>\n",
       "    <tr>\n",
       "      <th>0</th>\n",
       "      <td>0</td>\n",
       "      <td>0</td>\n",
       "      <td>0</td>\n",
       "      <td>0</td>\n",
       "      <td>0</td>\n",
       "      <td>0</td>\n",
       "      <td>0</td>\n",
       "      <td>0</td>\n",
       "      <td>0</td>\n",
       "      <td>0</td>\n",
       "      <td>...</td>\n",
       "      <td>0</td>\n",
       "      <td>0</td>\n",
       "      <td>0</td>\n",
       "      <td>0</td>\n",
       "      <td>0</td>\n",
       "      <td>0</td>\n",
       "      <td>0</td>\n",
       "      <td>0</td>\n",
       "      <td>0</td>\n",
       "      <td>0</td>\n",
       "    </tr>\n",
       "    <tr>\n",
       "      <th>1</th>\n",
       "      <td>0</td>\n",
       "      <td>0</td>\n",
       "      <td>0</td>\n",
       "      <td>0</td>\n",
       "      <td>0</td>\n",
       "      <td>0</td>\n",
       "      <td>0</td>\n",
       "      <td>0</td>\n",
       "      <td>0</td>\n",
       "      <td>0</td>\n",
       "      <td>...</td>\n",
       "      <td>0</td>\n",
       "      <td>0</td>\n",
       "      <td>0</td>\n",
       "      <td>0</td>\n",
       "      <td>0</td>\n",
       "      <td>0</td>\n",
       "      <td>0</td>\n",
       "      <td>0</td>\n",
       "      <td>0</td>\n",
       "      <td>0</td>\n",
       "    </tr>\n",
       "    <tr>\n",
       "      <th>2</th>\n",
       "      <td>0</td>\n",
       "      <td>0</td>\n",
       "      <td>0</td>\n",
       "      <td>0</td>\n",
       "      <td>0</td>\n",
       "      <td>0</td>\n",
       "      <td>0</td>\n",
       "      <td>0</td>\n",
       "      <td>0</td>\n",
       "      <td>0</td>\n",
       "      <td>...</td>\n",
       "      <td>0</td>\n",
       "      <td>0</td>\n",
       "      <td>0</td>\n",
       "      <td>0</td>\n",
       "      <td>0</td>\n",
       "      <td>0</td>\n",
       "      <td>0</td>\n",
       "      <td>0</td>\n",
       "      <td>0</td>\n",
       "      <td>0</td>\n",
       "    </tr>\n",
       "    <tr>\n",
       "      <th>3</th>\n",
       "      <td>0</td>\n",
       "      <td>0</td>\n",
       "      <td>0</td>\n",
       "      <td>0</td>\n",
       "      <td>0</td>\n",
       "      <td>0</td>\n",
       "      <td>0</td>\n",
       "      <td>0</td>\n",
       "      <td>0</td>\n",
       "      <td>0</td>\n",
       "      <td>...</td>\n",
       "      <td>0</td>\n",
       "      <td>0</td>\n",
       "      <td>0</td>\n",
       "      <td>0</td>\n",
       "      <td>0</td>\n",
       "      <td>0</td>\n",
       "      <td>0</td>\n",
       "      <td>0</td>\n",
       "      <td>0</td>\n",
       "      <td>0</td>\n",
       "    </tr>\n",
       "    <tr>\n",
       "      <th>4</th>\n",
       "      <td>0</td>\n",
       "      <td>0</td>\n",
       "      <td>0</td>\n",
       "      <td>0</td>\n",
       "      <td>0</td>\n",
       "      <td>0</td>\n",
       "      <td>0</td>\n",
       "      <td>0</td>\n",
       "      <td>0</td>\n",
       "      <td>0</td>\n",
       "      <td>...</td>\n",
       "      <td>0</td>\n",
       "      <td>0</td>\n",
       "      <td>0</td>\n",
       "      <td>0</td>\n",
       "      <td>0</td>\n",
       "      <td>0</td>\n",
       "      <td>0</td>\n",
       "      <td>0</td>\n",
       "      <td>0</td>\n",
       "      <td>0</td>\n",
       "    </tr>\n",
       "  </tbody>\n",
       "</table>\n",
       "<p>5 rows × 62 columns</p>\n",
       "</div>"
      ],
      "text/plain": [
       "   iphone  samsunggalaxy  sonyxperia  nokialumina  htcphone  ios  \\\n",
       "0       0              0           0            0         0    0   \n",
       "1       0              0           0            0         0    0   \n",
       "2       0              0           0            0         0    0   \n",
       "3       0              0           0            0         0    0   \n",
       "4       0              0           0            0         0    0   \n",
       "\n",
       "   googleandroid  iphonecampos  samsungcampos  sonycampos  ...  iosperpos  \\\n",
       "0              0             0              0           0  ...          0   \n",
       "1              0             0              0           0  ...          0   \n",
       "2              0             0              0           0  ...          0   \n",
       "3              0             0              0           0  ...          0   \n",
       "4              0             0              0           0  ...          0   \n",
       "\n",
       "   googleperpos  iosperneg  googleperneg  iosperunc  googleperunc  \\\n",
       "0             0          0             0          0             0   \n",
       "1             0          0             0          0             0   \n",
       "2             0          0             0          0             0   \n",
       "3             0          0             0          0             0   \n",
       "4             0          0             0          0             0   \n",
       "\n",
       "   iphonesen_3classes  galaxysen_3classes  iphonesentiment  galaxysentiment  \n",
       "0                   0                   0                0                0  \n",
       "1                   0                   0                0                0  \n",
       "2                   0                   0                0                0  \n",
       "3                   0                   0                0                0  \n",
       "4                   0                   0                0                0  \n",
       "\n",
       "[5 rows x 62 columns]"
      ]
     },
     "execution_count": 769,
     "metadata": {},
     "output_type": "execute_result"
    }
   ],
   "source": [
    "LargeMatrix.head()"
   ]
  },
  {
   "cell_type": "code",
   "execution_count": 770,
   "metadata": {},
   "outputs": [
    {
     "data": {
      "text/plain": [
       "<matplotlib.axes._subplots.AxesSubplot at 0x1398b8f1080>"
      ]
     },
     "execution_count": 770,
     "metadata": {},
     "output_type": "execute_result"
    },
    {
     "data": {
      "image/png": "[encoded data removed]",
      "text/plain": [
       "<Figure size 432x288 with 1 Axes>"
      ]
     },
     "metadata": {
      "needs_background": "light"
     },
     "output_type": "display_data"
    }
   ],
   "source": [
    "LargeMatrix['iphonesentiment'].hist(bins=20)"
   ]
  },
  {
   "cell_type": "code",
   "execution_count": 775,
   "metadata": {},
   "outputs": [
    {
     "data": {
      "text/plain": [
       "<matplotlib.axes._subplots.AxesSubplot at 0x1398648b438>"
      ]
     },
     "execution_count": 775,
     "metadata": {},
     "output_type": "execute_result"
    },
    {
     "data": {
      "image/png": "[encoded data removed]",
      "text/plain": [
       "<Figure size 432x288 with 1 Axes>"
      ]
     },
     "metadata": {
      "needs_background": "light"
     },
     "output_type": "display_data"
    }
   ],
   "source": [
    "LargeMatrix['galaxysentiment'].hist(color='green',bins=20)"
   ]
  },
  {
   "cell_type": "code",
   "execution_count": 776,
   "metadata": {},
   "outputs": [
    {
     "name": "stdout",
     "output_type": "stream",
     "text": [
      "5    17015\n",
      "0    15307\n",
      "3     2247\n",
      "2     1422\n",
      "4      721\n",
      "Name: iphonesentiment, dtype: int64\n",
      "6    17295\n",
      "0    15354\n",
      "3     4063\n",
      "Name: iphonesen_3classes, dtype: int64\n"
     ]
    }
   ],
   "source": [
    "#counting all levels of sentiment towards Iphone in Training Set\n",
    "\n",
    "print(LargeMatrix['iphonesentiment'].value_counts(sort=True))\n",
    "print(LargeMatrix['iphonesen_3classes'].value_counts(sort=True))"
   ]
  },
  {
   "cell_type": "code",
   "execution_count": 777,
   "metadata": {},
   "outputs": [
    {
     "name": "stdout",
     "output_type": "stream",
     "text": [
      "5    16797\n",
      "0    15433\n",
      "3     2029\n",
      "2     1786\n",
      "4      666\n",
      "1        1\n",
      "Name: galaxysentiment, dtype: int64\n",
      "6    17683\n",
      "0    15424\n",
      "3     3605\n",
      "Name: galaxysen_3classes, dtype: int64\n"
     ]
    }
   ],
   "source": [
    "#counting all levels of sentiment towards Iphone in Training Set\n",
    "\n",
    "print(LargeMatrix['galaxysentiment'].value_counts(sort=True))\n",
    "print(LargeMatrix['galaxysen_3classes'].value_counts(sort=True))"
   ]
  },
  {
   "cell_type": "code",
   "execution_count": 790,
   "metadata": {},
   "outputs": [
    {
     "name": "stdout",
     "output_type": "stream",
     "text": [
      "Average sentiment towards Iphone and Samsung Galaxy for August 2019 \n",
      "\n",
      "Iphone: 2.657005883634779 \n",
      "Galaxy: 2.6233656570058836\n",
      "\n",
      "Classification with 3 classes: \n",
      "\n",
      "Iphone: 3.1586129875789934 \n",
      "Galaxy: 3.1845990411854435\n"
     ]
    }
   ],
   "source": [
    "#average rating for Phone types \n",
    "\n",
    "p1 = LargeMatrix['iphonesentiment'].mean()\n",
    "p2 = LargeMatrix['galaxysentiment'].mean()\n",
    "\n",
    "p3 = LargeMatrix['iphonesen_3classes'].mean()\n",
    "p4 = LargeMatrix['galaxysen_3classes'].mean()\n",
    "\n",
    "print('Average sentiment towards Iphone and Samsung Galaxy for August 2019 \\n\\nIphone: {one} \\nGalaxy: {two}'.format(one=p1,two=p2))\n",
    "\n",
    "print('\\nClassification with 3 classes: \\n')\n",
    "print('Iphone: {one} \\nGalaxy: {two}'.format(one=p3,two=p4))"
   ]
  }
 ],
 "metadata": {
  "kernelspec": {
   "display_name": "Python 3",
   "language": "python",
   "name": "python3"
  },
  "language_info": {
   "codemirror_mode": {
    "name": "ipython",
    "version": 3
   },
   "file_extension": ".py",
   "mimetype": "text/x-python",
   "name": "python",
   "nbconvert_exporter": "python",
   "pygments_lexer": "ipython3",
   "version": "3.7.3"
  }
 },
 "nbformat": 4,
 "nbformat_minor": 2
}
